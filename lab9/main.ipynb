{
 "cells": [
  {
   "cell_type": "code",
   "id": "3c0f73d6a01b025a",
   "metadata": {
    "ExecuteTime": {
     "end_time": "2025-04-17T07:31:47.129Z",
     "start_time": "2025-04-17T07:31:42.189Z"
    }
   },
   "source": [
    "using Plots\n",
    "using LaTeXStrings\n",
    "using LinearAlgebra\n",
    "using Dates\n",
    "\n",
    "target(x::Float64) = (x^3-15*x^2+7*x+1)/10\n",
    "target_ravine(p) = sum(p .* p)\n",
    "target_ravine_2(p) = p[1]^2 + 100*p[2]^2\n",
    "simplex_test_func(x) = 3*(x[1]-5)^2 + 7*(x[2]-10)^2\n",
    "fly_func(x) = (x[1]-2*x[2])^2 + (x[2]-9)^2\n",
    "let5_func(x) = 5 - 24*x[1] + 17*(x[1]^2) - (11/3)*(x[1]^3)+(1/4)*(x[1]^4)\n",
    "function target_rastrygin(p)\n",
    "    A = 10\n",
    "    result = A*length(p)\n",
    "    for idx in 1:length(p)\n",
    "        result += p[idx]^2 - A*cosprintln(\"pic#$(idx)/$(length(history)) generated\")(2*pi*p[idx])\n",
    "    end\n",
    "    return result\n",
    "end\n",
    "function target_schefill(p)\n",
    "    A = 418.9829\n",
    "    result = A*length(p)\n",
    "    for idx in 1:length(p)\n",
    "        result -= p[idx]*sin(sqrt(abs(p[idx])))\n",
    "    end\n",
    "    return result\n",
    "end\n",
    "target_rosenbrock(p) = (1 - p[1])^2 + 100*(p[2] - p[1]^2)^2\n",
    "\n",
    "minimumby(f, iter) = reduce(iter) do x, y\n",
    "    f(x) < f(y) ? x : y\n",
    "end\n",
    "minimum_idx_by(f, iter) = reduce(1:length(iter)) do x, y\n",
    "    f(iter[x]) < f(iter[y]) ? x : y\n",
    "end"
   ],
   "outputs": [
    {
     "data": {
      "text/plain": [
       "minimum_idx_by (generic function with 1 method)"
      ]
     },
     "execution_count": 1,
     "metadata": {},
     "output_type": "execute_result"
    }
   ],
   "execution_count": 1
  },
  {
   "cell_type": "markdown",
   "id": "1d0323406f3dd6d1",
   "metadata": {},
   "source": [
    "# DISTANCES"
   ]
  },
  {
   "cell_type": "code",
   "id": "36e221a2c82e83c0",
   "metadata": {
    "ExecuteTime": {
     "end_time": "2025-04-17T07:31:47.522Z",
     "start_time": "2025-04-17T07:31:47.160Z"
    }
   },
   "source": [
    "using StatsBase\n",
    "using Random\n",
    "\n",
    "function euclid_distance(x, y)\n",
    "    v = (Float32.(x) - Float32.(y))\n",
    "    return sqrt(dot(v,v))\n",
    "end\n",
    "function boolean_distance(x, y)\n",
    "    return sum(target .!= x)\n",
    "end\n",
    "function hamming_distance(x, y)\n",
    "    return sum(count_ones.(xor.(x,y)))\n",
    "end\n",
    "\n",
    "@enum LossFunctionType EuclidNorm BooleanNorm HammingNorm\n",
    "\n",
    "struct genetics_function\n",
    "    dist\n",
    "    loss\n",
    "    DIMS\n",
    "    genetics_function(dist, loss; DIMS=2) = new(dist, loss, DIMS)\n",
    "end\n",
    "\n",
    "function create_target_function(target, type = EuclidNorm)\n",
    "    DIMS = length(target)\n",
    "    if type == EuclidNorm\n",
    "        return genetics_function(euclid_distance, x -> euclid_distance(target, x), DIMS=DIMS)\n",
    "    elseif type == BooleanNorm\n",
    "        return genetics_function(hamming_distance, x -> hamming_distance(target, x), DIMS=DIMS)\n",
    "    else\n",
    "        return genetics_function(boolean_distance, x -> boolean_distance(target, x), DIMS=DIMS)\n",
    "    end        \n",
    "end"
   ],
   "outputs": [
    {
     "data": {
      "text/plain": [
       "create_target_function (generic function with 2 methods)"
      ]
     },
     "execution_count": 2,
     "metadata": {},
     "output_type": "execute_result"
    }
   ],
   "execution_count": 2
  },
  {
   "cell_type": "markdown",
   "id": "470539409df1b21e",
   "metadata": {},
   "source": [
    "# PARENTS SELECTION"
   ]
  },
  {
   "cell_type": "code",
   "id": "1d880cf7e28db810",
   "metadata": {
    "ExecuteTime": {
     "end_time": "2025-04-17T07:31:47.585Z",
     "start_time": "2025-04-17T07:31:47.522Z"
    }
   },
   "source": [
    "@enum ParentSelectionType Basic Inbreading Outbreading\n",
    "\n",
    "struct parent_selection{T}\n",
    "    func\n",
    "    population\n",
    "end;\n",
    "\n",
    "function create_parent_selector(func::genetics_function, selection_type::ParentSelectionType)\n",
    "    function __selector(population)\n",
    "        return parent_selection{selection_type}(func, population)\n",
    "    end\n",
    "    return __selector\n",
    "end\n",
    "\n",
    "function create_basic_parent_selector()\n",
    "    function __selector(population)\n",
    "        return parent_selection{Basic}(x->x, population)\n",
    "    end\n",
    "    return __selector\n",
    "end\n",
    "\n",
    "function Base.iterate(c::parent_selection{Basic}, k=1)\n",
    "    while k < length(c.population) >> 1\n",
    "        first_parent_idx = 2*k-1\n",
    "        second_parent_idx = -1\n",
    "        k += 1\n",
    "        while second_parent_idx == -1 || second_parent_idx == first_parent_idx\n",
    "            second_parent_idx = rand(1:length(c.population))\n",
    "        end\n",
    "        return first_parent_idx => second_parent_idx, k\n",
    "    end\n",
    "    return nothing, k\n",
    "end\n",
    "\n",
    "function Base.iterate(c::parent_selection{Inbreading}, k=1)\n",
    "    while k < length(c.population) >> 1\n",
    "        first_parent_idx = rand(1:length(c.population))\n",
    "        second_parent_idx = minimum_idx_by(x -> c.func.dist(c.population[first_parent_idx], x), c.population)\n",
    "        k += 1\n",
    "        return first_parent_idx => second_parent_idx, k\n",
    "    end\n",
    "    return nothing\n",
    "end\n",
    "\n",
    "function Base.iterate(c::parent_selection{Outbreading}, k=1)\n",
    "    while k < length(c.population) >> 1\n",
    "        first_parent_idx = rand(1:length(c.population))\n",
    "        second_parent_idx = minimum_idx_by(x -> -c.func.dist(c.population[first_parent_idx], x), c.population)\n",
    "        k += 1\n",
    "        return first_parent_idx => second_parent_idx, k\n",
    "    end\n",
    "    return nothing, nothing\n",
    "end\n",
    "\n",
    "function select_parent_pair(c::parent_selection{Basic})\n",
    "    first_parent_idx = rand(1:length(c.population))\n",
    "    second_parent_idx = -1\n",
    "    while second_parent_idx == -1 || second_parent_idx == first_parent_idx\n",
    "        second_parent_idx = rand(1:length(c.population))\n",
    "    end\n",
    "    return first_parent_idx, second_parent_idx\n",
    "end\n",
    "\n",
    "function select_parent_pair(c::parent_selection{Inbreading})\n",
    "    first_parent_idx = rand(1:length(c.population))\n",
    "    second_parent_idx = minimum_idx_by(x -> c.func.dist(c.population[first_parent_idx], x), c.population)\n",
    "    return first_parent_idx, second_parent_idx\n",
    "end\n",
    "\n",
    "function select_parent_pair(c::parent_selection{Outbreading})\n",
    "    first_parent_idx = rand(1:length(c.population))\n",
    "    second_parent_idx = minimum_idx_by(x -> -c.func.dist(c.population[first_parent_idx], x), c.population)\n",
    "    return first_parent_idx, second_parent_idx\n",
    "end\n",
    "\n",
    "Base.length(s::parent_selection{T}) where T = (length(s.population) >> 1 - 1)\n",
    "Base.firstindex(s::parent_selection{T}) where T = firstindex(s.population)\n",
    "Base.getindex(s::parent_selection{T}, idx) where T = Base.iterate(s, idx)"
   ],
   "outputs": [],
   "execution_count": 3
  },
  {
   "cell_type": "markdown",
   "id": "d1b19018ab4b3efb",
   "metadata": {},
   "source": [
    "# CROSSINGOVERS"
   ]
  },
  {
   "cell_type": "code",
   "id": "4aa8cac7b3663908",
   "metadata": {
    "ExecuteTime": {
     "end_time": "2025-04-17T07:31:47.723Z",
     "start_time": "2025-04-17T07:31:47.586Z"
    }
   },
   "source": [
    "@enum CrossType MultiDimOnePoint OnePoint MultiPoint Linear\n",
    "\n",
    "struct crossover_strategy{T}\n",
    "    bounds::Tuple{<:Number,<:Number}\n",
    "    parent_select\n",
    "    domain::Float32\n",
    "    cross_points::UInt32\n",
    "    function crossover_strategy{T}(bounds, parent_select; domain=1.0, cross_points=1) where T\n",
    "        new(bounds, parent_select, domain, cross_points)\n",
    "    end\n",
    "end;\n",
    "\n",
    "function create_crossover_strategy(func::genetics_function, bounds; crossover_type::CrossType=MultiDimOnePoint, selection_type::ParentSelectionType=Basic, domain=1, cross_points=1)\n",
    "    if crossover_type == OnePoint\n",
    "        return crossover_strategy{crossover_type}(bounds, create_parent_selector(func, selection_type))\n",
    "    end    \n",
    "    return crossover_strategy{crossover_type}(bounds, create_parent_selector(func, selection_type), domain=domain, cross_points=cross_points)\n",
    "end\n",
    "\n",
    "function crossover!(generation, s::crossover_strategy{MultiDimOnePoint})\n",
    "    DIMS = length(generation[1])\n",
    "    MAX_SHIFT = Base.top_set_bit(max(s.bounds[1], s.bounds[2])) - 1\n",
    "    @Threads.threads for gen_idx in (length(generation) >> 1)+1:2:length(generation)\n",
    "        parent_1, parent_2 = select_parent_pair(s.parent_select(generation[1:length(generation) >> 1]))\n",
    "        for idx in 1:DIMS\n",
    "            mask_right = (1 << rand(1:MAX_SHIFT)) - 1\n",
    "            mask_left = ~mask_right\n",
    "            generation[gen_idx][idx] = clamp((generation[parent_1][idx] & mask_right) | (generation[parent_2][idx] & mask_left), s.bounds[1], s.bounds[2])\n",
    "            generation[gen_idx+1][idx] = clamp((generation[parent_1][idx] & mask_left) | (generation[parent_2][idx] & mask_right), s.bounds[1], s.bounds[2])\n",
    "        end\n",
    "    end\n",
    "end\n",
    "\n",
    "function crossover!(generation, s::crossover_strategy{MultiPoint})\n",
    "    DIMS = length(generation[1])\n",
    "    TYPE_BIT_SIZE = sizeof(generation[1][1]) << 3\n",
    "    MAX_SHIFT = DIMS * TYPE_BIT_SIZE\n",
    "    __shifts = sort(randperm(MAX_SHIFT)[1:s.cross_points])\n",
    "    @Threads.threads for gen_idx in (length(generation) >> 1)+1:2:length(generation)\n",
    "        first_parent, second_parent = select_parent_pair(s.parent_select(generation[1:length(generation) >> 1]))\n",
    "        for shift in __shifts\n",
    "            shift_dim_idx, shift_bit_index = ceil(Int, shift / TYPE_BIT_SIZE), shift % TYPE_BIT_SIZE\n",
    "            mask_left = [idx < shift_dim_idx ? typemax(typeof(generation[1][1])) : 0 for idx in 1:DIMS]\n",
    "            if(shift_bit_index != 0)\n",
    "                mask_left[shift_dim_idx] = (1 << shift_bit_index) - 1\n",
    "            end\n",
    "            mask_right = .~mask_left\n",
    "            for dim_idx in 1:DIMS\n",
    "                generation[gen_idx][dim_idx] = (generation[first_parent][dim_idx] & mask_left[dim_idx]) | (generation[second_parent][dim_idx] & mask_right[dim_idx])\n",
    "                generation[gen_idx+1][dim_idx] = (generation[second_parent][dim_idx] & mask_left[dim_idx]) | (generation[first_parent][dim_idx] & mask_right[dim_idx])\n",
    "            end            \n",
    "            first_parent, second_parent = gen_idx, gen_idx+1\n",
    "        end\n",
    "    end\n",
    "end\n",
    "\n",
    "function crossover!(generation, s::crossover_strategy{Linear})\n",
    "    @Threads.threads for gen_idx in (length(generation) >> 1) + 1 : length(generation)\n",
    "        parent_1, parent_2 = select_parent_pair(s.parent_select(generation[1:length(generation) >> 1]))\n",
    "        alpha = rand(-s.domain:0.01:1+s.domain)\n",
    "        generation[gen_idx] = generation[parent_1] + alpha .* (generation[parent_2] - generation[parent_1])\n",
    "    end\n",
    "end\n",
    "\n",
    "function crossover(population, s::crossover_strategy{Linear}; children_size=1)\n",
    "    result = [population[1] for i in 1:children_size]\n",
    "    @Threads.threads for gen_idx in 1:children_size\n",
    "        parent_1, parent_2 = select_parent_pair(s.parent_select(population))\n",
    "        alpha = rand(-s.domain:0.01:1+s.domain)\n",
    "        result[gen_idx] = population[parent_1] + alpha .* (population[parent_2] - population[parent_1])\n",
    "    end\n",
    "    return result\n",
    "end"
   ],
   "outputs": [
    {
     "data": {
      "text/plain": [
       "crossover (generic function with 1 method)"
      ]
     },
     "execution_count": 4,
     "metadata": {},
     "output_type": "execute_result"
    }
   ],
   "execution_count": 4
  },
  {
   "cell_type": "markdown",
   "id": "2b022cf90491bd05",
   "metadata": {},
   "source": [
    "# MUTATION"
   ]
  },
  {
   "cell_type": "code",
   "id": "3e6e06cde5c6c017",
   "metadata": {
    "ExecuteTime": {
     "end_time": "2025-04-17T07:31:47.786Z",
     "start_time": "2025-04-17T07:31:47.723Z"
    }
   },
   "source": [
    "@enum MutationType MultiDimOneBit MultiDim OneDim\n",
    "\n",
    "function mutate!(generation, mutation_type::MutationType; bounds=nothing, mut_prob=0.3)\n",
    "    DIMS = length(generation[1])\n",
    "    TYPE_BIT_SIZE = length(generation[1][1]) << 3\n",
    "    __bounds = (1, typemax(typeof(generation[1][1])))\n",
    "    if !isnothing(bounds)\n",
    "        __bounds = bounds\n",
    "    end\n",
    "    if mutation_type == MultiDimOnePoint\n",
    "        Threads.@threads for i in (length(generation) >> 1) + 1:length(generation)\n",
    "            for j in 1:DIMS\n",
    "                if rand() < mut_prob\n",
    "                    generation[i][j] = clamp(xor(population[i][j], 1 << rand(0:TYPE_BIT_SIZE-1)), __bounds...)\n",
    "                end\n",
    "            end\n",
    "        end\n",
    "    elseif mutation_type == MultiDim\n",
    "        Threads.@threads for i in (length(generation) >> 1) + 1:length(generation)\n",
    "            for j in 1:DIMS\n",
    "                if rand() < mut_prob\n",
    "                    generation[i][j] = rand(__bounds[1]:__bounds[2])\n",
    "                end\n",
    "            end\n",
    "        end\n",
    "    else\n",
    "        Threads.@threads for i in (length(generation) >> 1) + 1:length(generation)\n",
    "            if rand() < mut_prob\n",
    "                generation[i][rand(1:DIMS)] = rand(__bounds[1]:__bounds[2])\n",
    "            end\n",
    "        end\n",
    "    end\n",
    "end"
   ],
   "outputs": [
    {
     "data": {
      "text/plain": [
       "mutate! (generic function with 1 method)"
      ]
     },
     "execution_count": 5,
     "metadata": {},
     "output_type": "execute_result"
    }
   ],
   "execution_count": 5
  },
  {
   "cell_type": "markdown",
   "id": "ea413f0dcb425cda",
   "metadata": {},
   "source": [
    "# SELECTION"
   ]
  },
  {
   "cell_type": "code",
   "id": "afd87194cf6b61b5",
   "metadata": {
    "ExecuteTime": {
     "end_time": "2025-04-17T07:31:47.822Z",
     "start_time": "2025-04-17T07:31:47.786Z"
    }
   },
   "source": [
    "@enum SelectionType BestHalf Tournament Roullete\n",
    "\n",
    "function select!(generation, func::genetics_function, selection_type::SelectionType)\n",
    "    if selection_type == BestHalf\n",
    "        sort!(generation, by=func.loss)\n",
    "    elseif selection_type == Roullete\n",
    "        generation_loss = func.loss.(generation)\n",
    "        generation_loss_sum = sum(generation_loss)\n",
    "        for idx in eachindex(generation_loss)\n",
    "            generation_loss[idx] = generation_loss_sum - generation_loss[idx]\n",
    "        end\n",
    "        generation_loss_sum = sum(generation_loss)\n",
    "        weights = [loss/generation_loss_sum for loss in generation_loss]\n",
    "        result = sample(generation, Weights(weights), length(generation) >> 1)\n",
    "        for gen_idx in 1:length(generation)>>1\n",
    "            generation[gen_idx] = result[gen_idx]\n",
    "        end\n",
    "    else\n",
    "        old_gen = copy(generation)\n",
    "        for gen_idx in 1:length(generation)>>1\n",
    "            subset = sample(old_gen, length(generation) >> 1, replace=false)\n",
    "            generation[gen_idx] = minimum_by(func.loss, subset)\n",
    "        end\n",
    "    end\n",
    "end"
   ],
   "outputs": [
    {
     "data": {
      "text/plain": [
       "select! (generic function with 1 method)"
      ]
     },
     "execution_count": 6,
     "metadata": {},
     "output_type": "execute_result"
    }
   ],
   "execution_count": 6
  },
  {
   "cell_type": "markdown",
   "id": "8c6e89c53433486b",
   "metadata": {},
   "source": [
    "# GENETICS ALGORITHM"
   ]
  },
  {
   "cell_type": "code",
   "id": "88e33a7556776442",
   "metadata": {
    "ExecuteTime": {
     "end_time": "2025-04-17T07:31:47.869Z",
     "start_time": "2025-04-17T07:31:47.822Z"
    }
   },
   "source": [
    "function best_gene(generation, func::genetics_function)\n",
    "    result = nothing\n",
    "    best_val = typemax(typeof(generation[1][1]))\n",
    "    for idx in eachindex(generation)\n",
    "        gene_val = func.loss(generation[idx])\n",
    "        if best_val > gene_val\n",
    "            best_val = gene_val\n",
    "            result = generation[idx]\n",
    "        end\n",
    "    end\n",
    "    return result, best_val\n",
    "end\n",
    "\n",
    "function best_gene_gavaps(func, population)\n",
    "    result = nothing\n",
    "    best_val = typemax(typeof(population[1][1]))\n",
    "    for idx in eachindex(population)\n",
    "        gene_val = func(population[idx])\n",
    "        if best_val > gene_val\n",
    "            best_val = gene_val\n",
    "            result = population[idx]\n",
    "        end\n",
    "    end\n",
    "    return result, best_val\n",
    "end\n",
    "\n",
    "struct genetics_strategy\n",
    "    parent_selection_type::ParentSelectionType\n",
    "    crossover_type::CrossType\n",
    "    mutation_type::MutationType\n",
    "    selection_type::SelectionType\n",
    "end\n",
    "\n",
    "function genetics_min(func::genetics_function, bounds::Tuple{<:Unsigned, <:Unsigned}, gen_strategy::genetics_strategy;\n",
    "                        population_size=10, max_iter=1000, mut_prob=0.3, eps=1e-3, values_type=UInt,\n",
    "                        domain = 1, cross_points=2,\n",
    "                        log_every=1, verbose_every=0, slow_mutation_every=300)\n",
    "    generation = [\n",
    "        (i <= population_size ?\n",
    "            [values_type(rand(bounds[1]:bounds[2])) for j in 1:func.DIMS] :\n",
    "            values_type.(zeros(func.DIMS)))\n",
    "        for i in 1:population_size<<1\n",
    "    ]\n",
    "    cross = create_crossover_strategy(func, bounds,\n",
    "        crossover_type=gen_strategy.crossover_type, selection_type=gen_strategy.parent_selection_type, domain=domain, cross_points=cross_points)\n",
    "    iterations = 0\n",
    "    global_min = generation[1]\n",
    "    global_min_val = 0\n",
    "    history = [global_min]\n",
    "    start = now()\n",
    "    for idx in 1:max_iter\n",
    "        iterations += 1\n",
    "        crossover!(generation, cross)\n",
    "        mutate!(generation, gen_strategy.mutation_type, bounds=bounds, mut_prob=mut_prob)\n",
    "        select!(generation, func, gen_strategy.selection_type)\n",
    "        global_min, global_min_val = best_gene(generation, func)\n",
    "        if slow_mutation_every > 0 && iterations % slow_mutation_every == 0\n",
    "            mut_prob /= 2\n",
    "        end\n",
    "        if log_every > 0 && iterations % log_every == 0\n",
    "            push!(history, copy(global_min))\n",
    "        end\n",
    "        if verbose_every > 0 && iterations % verbose_every == 0\n",
    "            current = now()\n",
    "            println(\"iteration: $(iterations), best_score: $(global_min_val), elapsed_time: $(current-start)\")\n",
    "            flush(stdout)\n",
    "            start = current\n",
    "        end\n",
    "        if abs(global_min_val) < eps\n",
    "            break\n",
    "        end\n",
    "    end\n",
    "    return global_min, iterations, history\n",
    "end\n",
    "\n",
    "function DLOLinspace(x, src=(1000,10000), dest=(0,1))\n",
    "    min_src, max_src = min(src...), max(src...)\n",
    "    src_len = max_src - min_src\n",
    "    min_dest, max_dest = min(dest...), max(dest...)\n",
    "    dest_len = max_dest - min_dest\n",
    "    return dest_len/src_len * (x - min_src) + min_dest\n",
    "end\n",
    "\n",
    "function calculate_population_lifespan(func, population, lifespan_bounds)\n",
    "    min_lifespan, max_lifespan = min(lifespan_bounds...), max(lifespan_bounds...)\n",
    "    population_fit = func.(population)\n",
    "    min_fit, max_fit = minimum(population_fit), maximum(population_fit)\n",
    "    conv(x) = min_lifespan + (max_lifespan - DLOLinspace(x, (min_fit, max_fit), (min_lifespan, max_lifespan)))\n",
    "    return floor.(Int, conv.(population_fit))\n",
    "end\n",
    "\n",
    "function GAVaPS(func, bounds; initial_population_size=100, max_iter=10, mut_prob=0.3, reproduce_prob=0.05, lifespan_bounds=(1,10), DIMS=2,\n",
    "                cross_linear_domain=1, eps=1e-3, values_type=UInt, values_step=1, log_every=1, verbose_every=0)\n",
    "    min_lifespan, max_lifespan = min(lifespan_bounds...), max(lifespan_bounds...)\n",
    "    population = [[values_type(rand(bounds[1]:values_step:bounds[2])) for j in 1:DIMS] for i in 1:initial_population_size]\n",
    "    population_lifespan = calculate_population_lifespan(func, population, lifespan_bounds)\n",
    "    aux_population = [[values_type(rand(bounds[1]:values_step:bounds[2])) for j in 1:DIMS] for i in 1:max(1, floor(Int, length(population) * reproduce_prob))]\n",
    "    cross = crossover_strategy{Linear}(bounds, create_basic_parent_selector(), domain=cross_linear_domain)\n",
    "    iterations = 0\n",
    "    global_min = population[1]\n",
    "    global_min_val = typemax(values_type)\n",
    "    history = []\n",
    "    start = now()\n",
    "    for epoch_idx in 1:max_iter\n",
    "        iterations += 1\n",
    "        push!(history, (copy(population), copy(aux_population)))\n",
    "        epoch_min, epoch_min_val = best_gene_gavaps(func, population)\n",
    "        if epoch_min_val < global_min_val\n",
    "            global_min, global_min_val = epoch_min, epoch_min_val\n",
    "        end\n",
    "        for t in 1:max_lifespan\n",
    "            if length(population) >= 2\n",
    "                children = crossover(population, cross, children_size=max(1, floor(Int, length(population) * reproduce_prob)))\n",
    "                mutate!(children, MultiDim, bounds=bounds, mut_prob=mut_prob)\n",
    "                append!(aux_population, children)\n",
    "            end\n",
    "            if t >= minimum(population_lifespan)\n",
    "                mask = t .< population_lifespan\n",
    "                population = population[mask]\n",
    "                population_lifespan = population_lifespan[mask]\n",
    "            end    \n",
    "            if log_every > 0 && t % log_every == 0\n",
    "                push!(history, (copy(population), copy(aux_population)))\n",
    "            end\n",
    "        end\n",
    "        if verbose_every > 0 && epoch_idx % verbose_every == 0\n",
    "            current = now()\n",
    "            println(\"epoch: $(epoch_idx), x: $(global_min), min: $(global_min_val); elapsed: $(current-start)\")\n",
    "            flush(stdout)\n",
    "            start = current\n",
    "        end\n",
    "        population = aux_population\n",
    "        population_lifespan = calculate_population_lifespan(func, population, lifespan_bounds)\n",
    "        aux_population = []\n",
    "    end\n",
    "    return global_min, iterations, history\n",
    "end"
   ],
   "outputs": [
    {
     "data": {
      "text/plain": [
       "GAVaPS (generic function with 1 method)"
      ]
     },
     "execution_count": 7,
     "metadata": {},
     "output_type": "execute_result"
    }
   ],
   "execution_count": 7
  },
  {
   "cell_type": "markdown",
   "id": "876b59cee1bb8fad",
   "metadata": {},
   "source": [
    "# IMAGE GENERATION"
   ]
  },
  {
   "cell_type": "code",
   "id": "35508e705dc00e03",
   "metadata": {
    "ExecuteTime": {
     "end_time": "2025-04-17T07:31:51.749Z",
     "start_time": "2025-04-17T07:31:51.271Z"
    }
   },
   "source": [
    "#import Pkg; Pkg.add(\"ImageMagick\")\n",
    "using ImageMagick\n",
    "unpack_val(x) = [x.r.i, x.g.i, x.b.i]\n",
    "\n",
    "function generate_target_img(size=3)\n",
    "    result = zeros(UInt8, size^2) .+ 0x6\n",
    "    for idx in 1:size\n",
    "        result[trunc(UInt8, size/2)+1 + (idx-1)*size] = 3\n",
    "        result[(trunc(UInt8, size/2))*size + idx] = 3\n",
    "        result[(idx-1)*size+idx] = 0\n",
    "        result[size-idx+1 + (idx-1)*size] = 0\n",
    "    end\n",
    "    return result\n",
    "end\n",
    "\n",
    "function generate_colored_img(size=3)\n",
    "    result = zeros(UInt8, (size^2,3)) .+ 0x7\n",
    "    for idx in 1:size\n",
    "        result[trunc(UInt8, size/2)+1 + (idx-1)*size,:] = UInt8.(rand(0:7, 3))\n",
    "        result[(trunc(UInt8, size/2))*size + idx,:] = UInt8.(rand(0:7, 3))\n",
    "        result[(idx-1)*size+idx,:] = [0x0, 0x0, 0x0]\n",
    "        result[size-idx+1 + (idx-1)*size,:] = [0x0, 0x0, 0x0]\n",
    "    end\n",
    "    return reshape(result, 3*size^2)\n",
    "end\n",
    "\n",
    "function read_image(filename=\"target_image.png\")\n",
    "    target_img = open(filename) do io\n",
    "        ImageMagick.load(io)\n",
    "    end\n",
    "    return reduce(vcat, reshape(unpack_val.(target_img), prod(size(target_img)))), target_img\n",
    "end"
   ],
   "outputs": [
    {
     "data": {
      "text/plain": [
       "read_image (generic function with 2 methods)"
      ]
     },
     "execution_count": 8,
     "metadata": {},
     "output_type": "execute_result"
    }
   ],
   "execution_count": 8
  },
  {
   "cell_type": "code",
   "id": "30edf39e24d6ece",
   "metadata": {
    "ExecuteTime": {
     "end_time": "2025-04-15T13:06:08.213Z",
     "start_time": "2025-04-15T13:06:04.744Z"
    }
   },
   "source": [
    "result, iter, history = GAVaPS(let5_func, (0, 1000), initial_population_size=50, mut_prob=0.1, reproduce_prob=0.2, values_type=Float32, values_step=0.01, DIMS=1, verbose_every=1, max_iter=15)\n",
    "println(\"result: $(result), iterations: $(iter), hist_len:$(length(history[1][1]))\")"
   ],
   "outputs": [
    {
     "name": "stdout",
     "output_type": "stream",
     "text": [
      "epoch: 1, x: Float32[7.73], min: 34.28520711263036; elapsed: 1197 milliseconds\n",
      "epoch: 2, x: Float32[7.3975987], min: 22.090067545572992; elapsed: 167 milliseconds\n",
      "epoch: 3, x: Float32[7.3975987], min: 22.090067545572992; elapsed: 359 milliseconds\n",
      "epoch: 4, x: Float32[7.2945356], min: 19.143198649088617; elapsed: 1 millisecond\n",
      "epoch: 5, x: Float32[-0.43789917], min: 19.08650954036663; elapsed: 1 millisecond\n",
      "epoch: 6, x: Float32[5.043206], min: 7.743001302083371; elapsed: 1 millisecond\n",
      "epoch: 7, x: Float32[5.7015357], min: 5.38531494140625; elapsed: 3 milliseconds\n",
      "epoch: 8, x: Float32[1.3483697], min: -4.615518291791279; elapsed: 4 milliseconds\n",
      "epoch: 9, x: Float32[1.0], min: -5.416666666666666; elapsed: 7 milliseconds\n",
      "epoch: 10, x: Float32[1.0], min: -5.416666666666666; elapsed: 13 milliseconds\n",
      "epoch: 11, x: Float32[1.0], min: -5.416666666666666; elapsed: 40 milliseconds\n",
      "epoch: 12, x: Float32[1.0], min: -5.416666666666666; elapsed: 37 milliseconds\n",
      "epoch: 13, x: Float32[1.0], min: -5.416666666666666; elapsed: 64 milliseconds\n",
      "epoch: 14, x: Float32[1.0], min: -5.416666666666666; elapsed: 135 milliseconds\n",
      "epoch: 15, x: Float32[1.0], min: -5.416666666666666; elapsed: 226 milliseconds\n",
      "result: Float32[1.0], iterations: 15, hist_len:50\n"
     ]
    }
   ],
   "execution_count": 14
  },
  {
   "cell_type": "code",
   "id": "d097e424fb77e020",
   "metadata": {
    "jupyter": {
     "is_executing": true
    },
    "ExecuteTime": {
     "start_time": "2025-04-15T12:59:56.241Z"
    }
   },
   "source": [
    "anim = @animate for idx in 1:length(history)\n",
    "    plt = Plots.plot(size=(1000, 1000))\n",
    "    x = -1:0.1:15\n",
    "    Plots.plot!(plt, x, (x)->let5_func([x]), xlims=(-1,15), ylims=(-10,50))\n",
    "    Plots.plot!(plt, history[idx][1], let5_func, seriestype=:scatter, color = \"black\")\n",
    "    #Plots.plot!(plt, history[idx][2], let5_func, seriestype=:scatter, color = \"red\")\n",
    "end\n",
    "gif(anim, \"gavaps-animation.gif\", fps=2)"
   ],
   "outputs": [],
   "execution_count": null
  },
  {
   "metadata": {
    "jupyter": {
     "is_executing": true
    },
    "ExecuteTime": {
     "start_time": "2025-04-17T07:32:09.514Z"
    }
   },
   "cell_type": "code",
   "source": [
    "result, iter, history = GAVaPS(target_rosenbrock, (-5, 5), initial_population_size=50, mut_prob=0.1, reproduce_prob=0.2, values_type=Float32, values_step=0.01, DIMS=2, verbose_every=1, max_iter=15)\n",
    "println(\"result: $(result), iterations: $(iter), hist_len:$(length(history[1][1]))\")\n",
    "anim = @animate for idx in 1:length(history)\n",
    "    plt = Plots.plot(size=(1000, 1000), title=\"pic#$(idx)/$(length(history))\")\n",
    "    x = y = -5:0.1:5\n",
    "    Plots.plot!(plt, x, y, (x,y)->target_rosenbrock([x,y]), xlims=(-5,5), ylims=(-5,5), st=:contour, levels=:40)\n",
    "    Plots.plot!(plt, first.(history[idx][1]), last.(history[idx][1]), (x,y) -> target_rosenbrock([x,y]), seriestype=:scatter, color = \"black\", label=false)\n",
    "    Plots.plot!(plt, first.(history[idx][2]), last.(history[idx][2]), (x,y) -> target_rosenbrock([x,y]), seriestype=:scatter, color = \"red\", label=false)\n",
    "    println(\"pic#$(idx)/$(length(history)) generated\")\n",
    "end\n",
    "gif(anim, \"gavaps-animation-rosenbrock.gif\", fps=10)"
   ],
   "id": "685d9d3cbb2200c1",
   "outputs": [
    {
     "name": "stdout",
     "output_type": "stream",
     "text": [
      "epoch: 1, x: Float32[0.36, 0.34], min: 4.836416; elapsed: 1 millisecond\n",
      "epoch: 2, x: Float32[0.65470004, 0.4739], min: 0.3241499; elapsed: 3 milliseconds\n",
      "epoch: 3, x: Float32[0.65470004, 0.4739], min: 0.3241499; elapsed: 2 milliseconds\n",
      "epoch: 4, x: Float32[0.65470004, 0.4739], min: 0.3241499; elapsed: 3 milliseconds\n",
      "epoch: 5, x: Float32[0.65470004, 0.4739], min: 0.3241499; elapsed: 5 milliseconds\n",
      "epoch: 6, x: Float32[1.0104529, 0.98198384], min: 0.15245277; elapsed: 5 milliseconds\n",
      "epoch: 7, x: Float32[1.0, 1.0], min: 0.0; elapsed: 8 milliseconds\n",
      "epoch: 8, x: Float32[1.0, 1.0], min: 0.0; elapsed: 14 milliseconds\n",
      "epoch: 9, x: Float32[1.0, 1.0], min: 0.0; elapsed: 24 milliseconds\n",
      "epoch: 10, x: Float32[1.0, 1.0], min: 0.0; elapsed: 37 milliseconds\n",
      "epoch: 11, x: Float32[1.0, 1.0], min: 0.0; elapsed: 73 milliseconds\n",
      "epoch: 12, x: Float32[1.0, 1.0], min: 0.0; elapsed: 132 milliseconds\n",
      "epoch: 13, x: Float32[1.0, 1.0], min: 0.0; elapsed: 277 milliseconds\n",
      "epoch: 14, x: Float32[1.0, 1.0], min: 0.0; elapsed: 198 milliseconds\n",
      "epoch: 15, x: Float32[1.0, 1.0], min: 0.0; elapsed: 404 milliseconds\n",
      "result: Float32[1.0, 1.0], iterations: 15, hist_len:50\n",
      "pic#1/30 generated\n",
      "pic#2/30 generated\n",
      "pic#3/30 generated\n",
      "pic#4/30 generated\n",
      "pic#5/30 generated\n",
      "pic#6/30 generated\n",
      "pic#7/30 generated\n",
      "pic#8/30 generated\n",
      "pic#9/30 generated\n",
      "pic#10/30 generated\n",
      "pic#11/30 generated\n",
      "pic#12/30 generated\n",
      "pic#13/30 generated\n",
      "pic#14/30 generated\n",
      "pic#15/30 generated\n",
      "pic#16/30 generated\n",
      "pic#17/30 generated\n",
      "pic#18/30 generated\n",
      "pic#19/30 generated\n",
      "pic#20/30 generated\n",
      "pic#21/30 generated\n"
     ]
    }
   ],
   "execution_count": null
  },
  {
   "metadata": {},
   "cell_type": "code",
   "outputs": [],
   "execution_count": null,
   "source": [
    "result, iter, history = GAVaPS(target_rastrygin, (-5, 5), initial_population_size=50, mut_prob=0.1, reproduce_prob=0.2, values_type=Float32, values_step=0.01, DIMS=2, verbose_every=1, max_iter=15)\n",
    "anim = @animate for idx in 1:length(history)\n",
    "    plt = Plots.plot(size=(1000, 1000))\n",
    "    x = y = -5:0.1:5\n",
    "    Plots.plot!(plt, x, y, (x,y)->target_rastrygin([x,y]), xlims=(-5,5), ylims=(-5,5), st=:contour, levels=:40)\n",
    "    Plots.plot!(plt, history[idx][1], target_rastrygin, seriestype=:scatter, color = \"black\")\n",
    "    Plots.plot!(plt, history[idx][2], target_rastrygin, seriestype=:scatter, color = \"red\")\n",
    "end\n",
    "gif(anim, \"gavaps-animation-rastrygin.gif\", fps=2)"
   ],
   "id": "8dff57ca76001584"
  },
  {
   "metadata": {},
   "cell_type": "code",
   "outputs": [],
   "execution_count": null,
   "source": [
    "result, iter, history = GAVaPS(target_schefill, (0, 1000), initial_population_size=50, mut_prob=0.1, reproduce_prob=0.2, values_type=Float32, values_step=0.01, DIMS=2, verbose_every=1, max_iter=15)\n",
    "anim = @animate for idx in 1:length(history)\n",
    "    plt = Plots.plot(size=(1000, 1000))\n",
    "    x = y = -6:0.1:6\n",
    "    Plots.plot!(plt, x, y, (x,y)->target_schefill([x,y]), xlims=(-5,5), ylims=(-5,5), st=:contour, levels=:40)\n",
    "    Plots.plot!(plt, history[idx][1], target_schefill, seriestype=:scatter, color = \"black\")\n",
    "    Plots.plot!(plt, history[idx][2], target_schefill, seriestype=:scatter, color = \"red\")\n",
    "end\n",
    "gif(anim, \"gavaps-animation-schefill.gif\", fps=2)"
   ],
   "id": "5c5399b64c4a875a"
  },
  {
   "cell_type": "code",
   "execution_count": null,
   "id": "b0dfc7c40ddd39c1",
   "metadata": {},
   "outputs": [],
   "source": [
    "let5_func_2(x) = (x-1)*(x-3)*(x-4)^2\n",
    "result, iter, history = genetics_min(let5_func_2, [3, 10], population_size=4, max_iter=10)\n",
    "println(\"result: $(result), iterations: $(iter)\")"
   ]
  },
  {
   "cell_type": "code",
   "execution_count": null,
   "id": "190c382880512597",
   "metadata": {},
   "outputs": [],
   "source": [
    "anim = @animate for idx in 1:length(history)\n",
    "    plt = Plots.plot(size=(1000, 1000), title=\"$(idx)/$(length(history))\")\n",
    "    x = -1:0.1:8\n",
    "    Plots.plot!(plt, x, (x)->let5_func_2(x), xlims=(-1,8), ylims=(-10,50))\n",
    "    Plots.plot!(plt, history[idx], (x)->let5_func_2(x), seriestype=:scatter, color = \"blue\")\n",
    "end\n",
    "gif(anim, \"animation.gif\", fps=2)"
   ]
  },
  {
   "cell_type": "markdown",
   "id": "bfeb3ab9bad3f249",
   "metadata": {},
   "source": []
  },
  {
   "cell_type": "code",
   "execution_count": null,
   "id": "424d8d69f08cddb4",
   "metadata": {},
   "outputs": [],
   "source": [
    "lab_func(x) = (x[1]-1)^2 + (x[2]-1)^2\n",
    "result, iter, history = genetics_min_2d(lab_func, [0, 8], population_size=4, max_iter=100)\n",
    "println(\"result: $(result), iterations: $(iter)\")"
   ]
  },
  {
   "cell_type": "code",
   "execution_count": null,
   "id": "67c6998290343875",
   "metadata": {},
   "outputs": [],
   "source": [
    "anim = @animate for idx in 1:length(history)\n",
    "    plt = Plots.plot(size=(1000, 1000), title=\"$(idx)/$(length(history))\")\n",
    "    x = y = -1:0.1:8\n",
    "    #Plots.plot!(plt, x, (x)->let5_func(x), xlims=(-1,8), ylims=(-10,50))\n",
    "    Plots.plot!(plt, x, y, (x,y)->lab_func([x,y]), st = :contour, levels=:40)\n",
    "    Plots.plot!(plt, first.(history[idx]), last.(history[idx]), (x,y) -> lab_func([Float32(x),Float32(y)]), seriestype=:scatter, color = \"blue\")\n",
    "end\n",
    "gif(anim, \"lab-animation.gif\", fps=10)"
   ]
  },
  {
   "cell_type": "code",
   "execution_count": null,
   "id": "a3c1c88cab2065b4",
   "metadata": {},
   "outputs": [],
   "source": [
    "result, iter, history = genetics_min_2d(target_rosenbrock, [0, 8], population_size=4, max_iter=100)\n",
    "println(\"result: $(result), iterations: $(iter)\")"
   ]
  },
  {
   "cell_type": "code",
   "execution_count": null,
   "id": "f5951a0a675df1a2",
   "metadata": {},
   "outputs": [],
   "source": [
    "anim = @animate for idx in 1:length(history)\n",
    "    plt = Plots.plot(size=(1000, 1000), title=\"$(idx)/$(length(history))\")\n",
    "    x = y = -1:0.1:8\n",
    "    Plots.plot!(plt, x, y, (x,y)->target_rosenbrock([x,y]), st = :contour, levels=:40)\n",
    "    Plots.plot!(plt, first.(history[idx]), last.(history[idx]), (x,y) -> target_rosenbrock([Float32(x),Float32(y)]), seriestype=:scatter, color = \"blue\")\n",
    "end\n",
    "gif(anim, \"lab-animation-rosenbrock.gif\", fps=10)"
   ]
  },
  {
   "cell_type": "code",
   "execution_count": null,
   "id": "a6b666d1b39d5cf7",
   "metadata": {},
   "outputs": [],
   "source": [
    "result, iter, history = genetics_min_2d(target_schefill, [0, 500], population_size=100, max_iter=1000)\n",
    "println(\"result: $(result), iterations: $(iter)\")"
   ]
  },
  {
   "cell_type": "code",
   "execution_count": null,
   "id": "777fc14dd8271356",
   "metadata": {},
   "outputs": [],
   "source": [
    "anim = @animate for idx in 1:length(history)\n",
    "    plt = Plots.plot(size=(1000, 1000), title=\"$(idx)/$(length(history))\")\n",
    "    x = y = 0:1:500\n",
    "    Plots.plot!(plt, x, y, (x,y)->target_schefill([x,y]), st = :contour, levels=:40)\n",
    "    Plots.plot!(plt, first.(history[idx]), last.(history[idx]), (x,y) -> target_schefill([Float32(x),Float32(y)]), seriestype=:scatter, color = \"blue\")\n",
    "end\n",
    "gif(anim, \"lab-animation-rosenbrock.gif\", fps=10)"
   ]
  },
  {
   "cell_type": "code",
   "execution_count": null,
   "id": "377a58cbd64051ba",
   "metadata": {},
   "outputs": [],
   "source": [
    "sizes = [3, 5, 9, 21]\n",
    "imgs = []\n",
    "tf = []\n",
    "for size in sizes\n",
    "    im = generate_target_img(size)\n",
    "    push!(imgs, im)\n",
    "    push!(tf, generate_target_function(im))\n",
    "end\n",
    "results = []\n",
    "for idx in 1:length(tf)\n",
    "    @time result, iterations, history = genetics_min(tf[idx], [0, 6], population_size=1000, max_iter=500, stop=true, DIMS=sizes[idx]^2, mut_prob=0.2,henocide_after=50, values_type=UInt8)\n",
    "    push!(results, [result, iterations, history])\n",
    "    println(\"size: $(sizes[idx]), iterations: $(iterations), score: $(tf[idx](result))\")\n",
    "    flush(stdout)\n",
    "end"
   ]
  },
  {
   "cell_type": "code",
   "execution_count": null,
   "id": "7d1b44fb99049ff0",
   "metadata": {},
   "outputs": [],
   "source": [
    "b_tf = []\n",
    "for im in imgs\n",
    "    push!(b_tf, generate_target_function(im, BooleanNorm))\n",
    "end\n",
    "b_results = []\n",
    "for idx in 1:length(tf)\n",
    "    result, iterations, history = genetics_min(b_tf[idx], [0, 6], population_size=1000, max_iter=500, stop=true, DIMS=sizes[idx]^2, mut_prob=0.2, henocide_after=50)\n",
    "    push!(b_results, [result, iterations, history])\n",
    "    println(\"size: $(sizes[idx]), result: $(result), iterations: $(iterations), score: $(b_tf[idx](result))\")\n",
    "end"
   ]
  },
  {
   "cell_type": "code",
   "execution_count": null,
   "id": "dd4606647762678e",
   "metadata": {},
   "outputs": [],
   "source": [
    "sizes = [3, 5, 9, 21]\n",
    "colored_imgs = []\n",
    "colored_tf = []\n",
    "for size in sizes\n",
    "    im = generate_colored_img(size)\n",
    "    push!(colored_imgs, im)\n",
    "    push!(colored_tf, generate_target_function(im))\n",
    "end\n",
    "c_results = []\n",
    "for idx in 1:length(colored_tf)\n",
    "    @time result, iterations, history = genetics_min(colored_tf[idx], [0, 7], population_size=1000, max_iter=500, stop=true, DIMS=3*sizes[idx]^2, mut_prob=0.01,henocide_after=500, values_type=UInt8)\n",
    "    push!(c_results, [result, iterations, history])\n",
    "    println(\"size: $(sizes[idx]), result: $(result), iterations: $(iterations), score: $(colored_tf[idx](result))\")\n",
    "    flush(stdout)\n",
    "end"
   ]
  },
  {
   "cell_type": "code",
   "execution_count": null,
   "id": "4422e28d2f09d4b1",
   "metadata": {},
   "outputs": [],
   "source": [
    "for sz_idx in 1:length(sizes)\n",
    "    initial_matrix = reshape(imgs[sz_idx], (sizes[sz_idx], sizes[sz_idx]))\n",
    "    anim = @animate for idx in 1:length(results[sz_idx][3])\n",
    "        current_matrix = reshape(results[sz_idx][3][idx], (sizes[sz_idx], sizes[sz_idx]))\n",
    "        p1 = Plots.heatmap(initial_matrix, c=:grays, title=\"Начальное изображение\", clims=(0,7), colorbar=false)\n",
    "        p2 = Plots.heatmap(current_matrix, c=:grays, title=\"$(idx)/$(length(results[sz_idx][3]))\\nDist: $(round(results[sz_idx][4][idx][2], digits=2))\", clims=(0,7), colorbar=false)\n",
    "        Plots.plot(p1, p2)\n",
    "    end\n",
    "    gif(anim, \"lab-img-gen-$(sizes[sz_idx])-ec.gif\", fps=10)\n",
    "end"
   ]
  },
  {
   "cell_type": "code",
   "execution_count": null,
   "id": "698ac8695d70b1ec",
   "metadata": {},
   "outputs": [],
   "source": [
    "for sz_idx in 1:length(sizes)\n",
    "    anim = @animate for idx in 1:length(b_results[sz_idx][3])\n",
    "        current_matrix = reshape(b_results[sz_idx][4][idx][1], (sizes[sz_idx], sizes[sz_idx]))\n",
    "        initial_matrix = reshape(imgs[sz_idx], (sizes[sz_idx], sizes[sz_idx]))\n",
    "        p1 = Plots.heatmap(initial_matrix, c=:grays, title=\"Начальное изображение\", clims=(0,7), colorbar=false)\n",
    "        p2 = Plots.heatmap(current_matrix, c=:grays, title=\"$(idx)/$(length(b_results[sz_idx][3]))\\nBoolDist: $(round(b_results[sz_idx][4][idx][2], digits=2))\", clims=(0,7), colorbar=false)\n",
    "        Plots.plot(p1, p2)\n",
    "    end\n",
    "    gif(anim, \"lab-img-gen-$(sizes[sz_idx])-bc.gif\", fps=10)\n",
    "end"
   ]
  },
  {
   "cell_type": "code",
   "execution_count": null,
   "id": "60433f3b6a2459e3",
   "metadata": {},
   "outputs": [],
   "source": [
    "for sz_idx in 1:length(sizes)\n",
    "    initial_matrix = reshape(imgs[sz_idx], (sizes[sz_idx], sizes[sz_idx], 3))\n",
    "    initial_colors = [RGB((initial_matrix[i,j,:]/sum(initial_matrix[i,j,:]))...) for i in 1:sizes[sz_idx] for j in 1:sizes[sz_idx]]\n",
    "    anim = @animate for idx in 1:length(b_results[sz_idx][3])\n",
    "        current_matrix = reshape(b_results[sz_idx][4][idx][1], (sizes[sz_idx], sizes[sz_idx]))\n",
    "        p1 = Plots.heatmap(initial_matrix, c=initial_colors, title=\"Начальное изображение\", clims=(0,7), colorbar=false)\n",
    "        p2 = Plots.heatmap(current_matrix, c=:grays, title=\"$(idx)/$(length(b_results[sz_idx][3]))\\nBoolDist: $(round(b_results[sz_idx][4][idx][2], digits=2))\", clims=(0,7), colorbar=false)\n",
    "        Plots.plot(p1, p2)\n",
    "    end\n",
    "    gif(anim, \"lab-colimg-gen-$(sizes[sz_idx])-bc.gif\", fps=10)\n",
    "end"
   ]
  },
  {
   "cell_type": "code",
   "execution_count": null,
   "id": "3325382c323e359d",
   "metadata": {},
   "outputs": [],
   "source": [
    "for sz_idx in 1:length(sizes)\n",
    "    initial_matrix = reshape(colored_imgs[sz_idx], (sizes[sz_idx], sizes[sz_idx], 3))\n",
    "    initial_colors = [[RGB((initial_matrix[i,j,:]/0x7...)) for i in 1:sizes[sz_idx]] for j in 1:sizes[sz_idx]]\n",
    "    initial_img = hcat(initial_colors...)\n",
    "    anim = @animate for idx in 1:length(c_results[sz_idx][3])\n",
    "        current_matrix =  reshape(c_results[sz_idx][3][idx], (sizes[sz_idx], sizes[sz_idx], 3))\n",
    "        current_colors = [[RGB((current_matrix[i,j,:]/0x7...)) for i in 1:sizes[sz_idx]] for j in 1:sizes[sz_idx]]\n",
    "        current_img = hcat(current_colors...)\n",
    "        p1 = Plots.plot(initial_img, title=\"Начальное изображение\")\n",
    "        p2 = Plots.plot(current_img, title=\"$(idx)/$(length(c_results[sz_idx][3]))\\nDist: $(colored_tf[sz_idx](c_results[sz_idx][3][idx]))\")\n",
    "        Plots.plot(p1, p2)\n",
    "    end\n",
    "    gif(anim, \"lab-colimg-gen-$(sizes[sz_idx])-ec.gif\", fps=10)\n",
    "end\n"
   ]
  },
  {
   "cell_type": "code",
   "execution_count": null,
   "id": "d3f9e88b85c64618",
   "metadata": {},
   "outputs": [],
   "source": [
    "image_vector, target_img = read_image(\"target_image.png\")\n",
    "image_tf = create_target_function(image_vector)"
   ]
  },
  {
   "cell_type": "markdown",
   "id": "d703e159b120aa46",
   "metadata": {},
   "source": [
    "# Euclid_Basic_MultiDimOnePoint_MultiDimOneBit_BestHalf"
   ]
  },
  {
   "cell_type": "code",
   "execution_count": null,
   "id": "1ad93ff646bb80",
   "metadata": {},
   "outputs": [],
   "source": [
    "strategy = genetics_strategy(Basic, MultiDimOnePoint, MultiDimOneBit, BestHalf)\n",
    "result, iterations, history = genetics_min(image_tf, (0x00, 0xff), strategy, population_size=500, max_iter=3000, mut_prob=0.01, values_type=UInt8, verbose_every=5, log_every=50)"
   ]
  },
  {
   "cell_type": "markdown",
   "id": "dca6876bcd7eaf63",
   "metadata": {},
   "source": [
    "# Euclid_Basic_MultiPoint_MultiDimOneBit_Roullete"
   ]
  },
  {
   "cell_type": "code",
   "execution_count": null,
   "id": "587dee98571b65ce",
   "metadata": {},
   "outputs": [],
   "source": [
    "strategy = genetics_strategy(Basic, MultiPoint, MultiDimOneBit, Roullete)\n",
    "result, iterations, history = genetics_min(image_tf, (0x00, 0xff), strategy, population_size=500, max_iter=3000, mut_prob=0.01, values_type=UInt8, verbose_every=5, log_every=50)"
   ]
  },
  {
   "cell_type": "code",
   "execution_count": null,
   "id": "de435fa0d5b4beeb",
   "metadata": {},
   "outputs": [],
   "source": [
    "initial_matrix = reshape(image_vector, (3, size(target_img)...))\n",
    "initial_colors = [[RGB((initial_matrix[:,i,j]/0xff...)) for i in 1:size(target_img)[1]] for j in 1:size(target_img)[2]]\n",
    "initial_img = hcat(initial_colors...)\n",
    "anim = @animate for idx in 1:length(history)\n",
    "    current_matrix =  reshape(history[idx], (3, size(target_img)...))\n",
    "    current_colors = [[RGB((current_matrix[:,i,j]/0xff...)) for i in 1:size(target_img)[1]] for j in 1:size(target_img)[2]]\n",
    "    current_img = hcat(current_colors...)\n",
    "    p1 = Plots.plot(initial_img, title=\"Начальное изображение\")\n",
    "    p2 = Plots.plot(current_img, title=\"$(idx)/$(length(history))\\nDist: $(image_tf.loss(history[idx]))\")\n",
    "    Plots.plot(p1, p2)\n",
    "end\n",
    "gif(anim, \"lab-huge_img-gen-$(size(target_img)[1])-ec-bas-mdop-mdob-bh.gif\", fps=5)"
   ]
  },
  {
   "cell_type": "code",
   "execution_count": null,
   "id": "9d31bde609bb9334",
   "metadata": {},
   "outputs": [],
   "source": [
    "test = reshape(result, (3,size(target_img)...))\n",
    "test1 = [[RGB((test[:,i,j]/0xff...)) for i in 1:size(target_img)[1]] for j in 1:size(target_img)[2]]\n",
    "test2 = hcat(test1...)\n",
    "Plots.plot(test2)"
   ]
  }
 ],
 "metadata": {
  "kernelspec": {
   "display_name": "Julia 1.10.0",
   "language": "julia",
   "name": "julia-1.10"
  },
  "language_info": {
   "file_extension": ".jl",
   "mimetype": "application/julia",
   "name": "julia",
   "version": "1.10.0"
  },
  "vscode": {
   "interpreter": {
    "hash": "31f2aee4e71d21fbe5cf8b01ff0e069b9275f58929596ceb00d14d90e3e16cd6"
   }
  }
 },
 "nbformat": 4,
 "nbformat_minor": 5
}
