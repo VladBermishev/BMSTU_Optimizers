{
 "cells": [
  {
   "metadata": {},
   "cell_type": "code",
   "outputs": [],
   "execution_count": null,
   "source": [
    "using Plots, GraphRecipes;\n",
    "using Graphs;\n",
    "using LinearAlgebra\n",
    "using Dates\n",
    "\n",
    "minimumby(f, iter) = reduce(iter) do x, y\n",
    "    f(x) < f(y) ? x : y\n",
    "end\n",
    "minimum_idx_by(f, iter) = reduce(1:length(iter)) do x, y\n",
    "    f(iter[x]) < f(iter[y]) ? x : y\n",
    "end"
   ],
   "id": "23ff161846d244f4"
  },
  {
   "metadata": {
    "ExecuteTime": {
     "end_time": "2025-04-17T13:22:43.330Z",
     "start_time": "2025-04-17T13:22:43.324Z"
    }
   },
   "cell_type": "code",
   "source": [
    "D = [\n",
    "        0 2451 713 1018 1631 1374 2408 213 2571 875 1420 2145 1972;\n",
    "        2451 0 1745 1524 831 1240 959 2596 403 1589 1374 357 579;\n",
    "        713 1745 0 355 920 803 1737 851 1858 262 940 1453 1260;\n",
    "        1018 1524 355 0 700 862 1395 1123 1584 466 1056 1280 987;\n",
    "        1631 831 920 700 0 663 1021 1769 949 796 879 586 371;\n",
    "        1374 1240 803 862 663 0 1681 1551 1765 547 225 887 999;\n",
    "        2408 959 1737 1395 1021 1681 0 2493 678 1724 1891 1114 701;\n",
    "        213 2596 851 1123 1769 1551 2493 0 2699 1038 1605 2300 2099;\n",
    "        2571 403 1858 1584 949 1765 678 2699 0 1744 1645 653 600;\n",
    "        875 1589 262 466 796 547 1724 1038 1744 0 679 1272 1162;\n",
    "        1420 1374 940 1056 879 225 1891 1605 1645 679 0 1017 1200;\n",
    "        2145 357 1453 1280 586 887 1114 2300 653 1272 1017 0 504;\n",
    "        1972 579 1260 987 371 999 701 2099 600 1162 1200 504 0\n",
    "    ]\n",
    "println(size(D)[1])"
   ],
   "id": "a4814e8fe891f868",
   "outputs": [
    {
     "name": "stdout",
     "output_type": "stream",
     "text": [
      "13\n"
     ]
    }
   ],
   "execution_count": 17
  },
  {
   "metadata": {
    "ExecuteTime": {
     "end_time": "2025-04-17T13:16:14.455Z",
     "start_time": "2025-04-17T13:16:14.019Z"
    }
   },
   "cell_type": "code",
   "source": [
    "function solve_salesman_ants(G; ants_count=nothing, max_iter=100, alpha=1,beta=5,Q=100,pheromon_coef=0.9, initial_pheromon_amount=1e-6,\n",
    "    verbose_every=1, log_every=1)\n",
    "    VERTEX_COUNT = size(G)[1]\n",
    "    if ants_count == nothing\n",
    "        ants_count = VERTEX_COUNT\n",
    "    end\n",
    "    pheromon = fill(initial_pheromon_amount, size(G))\n",
    "    iterations = 0\n",
    "    history = []\n",
    "    for epoch_idx in 1:max_iter\n",
    "        iterations += 1\n",
    "        C = [Set(rand(1:VERTEX_COUNT)) for _ in eachindex(ants_count)]\n",
    "        \n",
    "        for q in 1:VERTEX_COUNT-1\n",
    "            for ant_idx in 1:ants_count\n",
    "                current_vertex =\n",
    "                for vertex_idx in 1:VERTEX_COUNT\n",
    "                    if !in(vertex_idx, C[ant_idx])\n",
    "                        pheromon[]\n",
    "                    end\n",
    "                end\n",
    "            end\n",
    "        end\n",
    "    end\n",
    "end"
   ],
   "id": "575b0af1c7ee34b8",
   "outputs": [
    {
     "data": {
      "text/plain": [
       "true"
      ]
     },
     "execution_count": 12,
     "metadata": {},
     "output_type": "execute_result"
    }
   ],
   "execution_count": 12
  },
  {
   "metadata": {},
   "cell_type": "code",
   "outputs": [],
   "execution_count": null,
   "source": "graphplot(D)",
   "id": "d37bc48470587402"
  }
 ],
 "metadata": {
  "kernelspec": {
   "display_name": "Julia 1.10.0",
   "language": "julia",
   "name": "julia-1.10"
  },
  "language_info": {
   "file_extension": ".jl",
   "mimetype": "application/julia",
   "name": "julia",
   "version": "1.11.4"
  },
  "vscode": {
   "interpreter": {
    "hash": "31f2aee4e71d21fbe5cf8b01ff0e069b9275f58929596ceb00d14d90e3e16cd6"
   }
  }
 },
 "nbformat": 4,
 "nbformat_minor": 5
}
